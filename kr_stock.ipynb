{
 "cells": [
  {
   "cell_type": "code",
   "execution_count": 1,
   "metadata": {},
   "outputs": [
    {
     "name": "stderr",
     "output_type": "stream",
     "text": [
      "C:\\Users\\YANG\\AppData\\Roaming\\Python\\Python39\\site-packages\\pandas\\core\\computation\\expressions.py:21: UserWarning: Pandas requires version '2.8.4' or newer of 'numexpr' (version '2.7.3' currently installed).\n",
      "  from pandas.core.computation.check import NUMEXPR_INSTALLED\n",
      "C:\\Users\\YANG\\AppData\\Roaming\\Python\\Python39\\site-packages\\pandas\\core\\arrays\\masked.py:60: UserWarning: Pandas requires version '1.3.6' or newer of 'bottleneck' (version '1.3.2' currently installed).\n",
      "  from pandas.core import (\n"
     ]
    }
   ],
   "source": [
    "import numpy as np\n",
    "import pandas as pd\n",
    "import requests as rq\n",
    "from io import BytesIO\n",
    "from datetime import datetime, timedelta\n",
    "import json\n",
    "from tqdm import tqdm\n",
    "import time\n",
    "import pymysql\n",
    "from sqlalchemy import create_engine\n",
    "from dateutil.relativedelta import relativedelta\n",
    "import re"
   ]
  },
  {
   "cell_type": "code",
   "execution_count": 2,
   "metadata": {},
   "outputs": [],
   "source": [
    "biz_day = datetime.today() - timedelta(days=1)\n",
    "biz_day = biz_day.strftime(\"%Y%m%d\")"
   ]
  },
  {
   "cell_type": "code",
   "execution_count": 3,
   "metadata": {},
   "outputs": [],
   "source": [
    "# url 입력\n",
    "gen_otp_url = \"http://data.krx.co.kr/comm/fileDn/GenerateOTP/generate.cmd\"\n",
    "gen_otp_stk = {\n",
    "    'mktId' : 'STK', # STK => 코스피, KSQ => 코스닥\n",
    "    'trdDd' : biz_day, # 최근 영업일\n",
    "    'money' : '1',\n",
    "    'csvxls_isNo' : 'false',\n",
    "    'name' : 'fileDown',\n",
    "    'url' :'dbms/MDC/STAT/standard/MDCSTAT03901'\n",
    "}\n",
    "\n",
    "# 헤더 부분에 리퍼러를 추가한다. 리퍼러란 링크를 통해서 각각의 웹사잍로 방문할 때 남는 흔적이다.\n",
    "# 헤더에 이러한 리퍼를 추가해야 로봇으로 인식하지 않는다.\n",
    "headers = {'Referer' : 'http://dart.krx.co.kr/contents/MDC/MDI/mdiLoader'}\n",
    "# post() 함수를 통해 해당 URL에 쿼리를 전송하면 이에 해당하는 데이터를 받으며, 이중 텍스트에 해당하는 내용만 불러온다.\n",
    "opt_stk = rq.post(gen_otp_url, gen_otp_stk, headers=headers).text\n",
    "\n",
    "# OTP를 제출할 URL을 down_url에 입력한다.\n",
    "down_url = 'http://data.krx.co.kr/comm/fileDn/download_csv/download.cmd'\n",
    "\n",
    "# post() 함수를 통해 위에서 부여받은 OTP 코드를 해당 URL에 제출한다.\n",
    "down_sector_stk = rq.post(down_url, {'code': opt_stk}, headers=headers)\n",
    "# 받은 데이터의 content 부분을 BytesIO()를 이용해 바이너리 스트림 형태로 만든 후, csv 함수로 데이터를 읽어온다.\n",
    "# 해당 데이터의 인코딩되어 있으므로 이를 선언한다.\n",
    "sector_stk = pd.read_csv(BytesIO(down_sector_stk.content), encoding='EUC-KR')"
   ]
  },
  {
   "cell_type": "code",
   "execution_count": 4,
   "metadata": {},
   "outputs": [],
   "source": [
    "gen_otp_ksq = {\n",
    "    'mktId' : 'KSQ', # STK => 코스피, KSQ => 코스닥\n",
    "    'trdDd' : biz_day, # 최근 영업일\n",
    "    'money' : '1',\n",
    "    'csvxls_isNo' : 'false',\n",
    "    'name' : 'fileDown',\n",
    "    'url' :'dbms/MDC/STAT/standard/MDCSTAT03901'\n",
    "}\n",
    "\n",
    "# 헤더 부분에 리퍼러를 추가한다. 리퍼러란 링크를 통해서 각각의 웹사잍로 방문할 때 남는 흔적이다.\n",
    "# 헤더에 이러한 리퍼를 추가해야 로봇으로 인식하지 않는다.\n",
    "headers = {'Referer' : 'http://dart.krx.co.kr/contents/MDC/MDI/mdiLoader'}\n",
    "# post() 함수를 통해 해당 URL에 쿼리를 전송하면 이에 해당하는 데이터를 받으며, 이중 텍스트에 해당하는 내용만 불러온다.\n",
    "opt_ksq = rq.post(gen_otp_url, gen_otp_ksq, headers=headers).text\n",
    "\n",
    "# OTP를 제출할 URL을 down_url에 입력한다.\n",
    "down_url = 'http://data.krx.co.kr/comm/fileDn/download_csv/download.cmd'\n",
    "\n",
    "# post() 함수를 통해 위에서 부여받은 OTP 코드를 해당 URL에 제출한다.\n",
    "down_sector_ksq = rq.post(down_url, {'code': opt_ksq}, headers=headers)\n",
    "# 받은 데이터의 content 부분을 BytesIO()를 이용해 바이너리 스트림 형태로 만든 후, csv 함수로 데이터를 읽어온다.\n",
    "# 해당 데이터의 인코딩되어 있으므로 이를 선언한다.\n",
    "sector_ksq = pd.read_csv(BytesIO(down_sector_ksq.content), encoding='EUC-KR')"
   ]
  },
  {
   "cell_type": "code",
   "execution_count": 5,
   "metadata": {},
   "outputs": [],
   "source": [
    "# 두개의 데이터를 합침\n",
    "krx_sector = pd.concat([sector_stk, sector_ksq]).reset_index(drop=True)\n",
    "krx_sector['종목명'] = krx_sector['종목명'].str.strip()\n",
    "krx_sector['기준일'] = biz_day"
   ]
  },
  {
   "cell_type": "code",
   "execution_count": 6,
   "metadata": {},
   "outputs": [],
   "source": [
    "gen_otp_data = {\n",
    "    'searchType' : '1',\n",
    "    'mktId' : 'ALL', # STK => 코스피, KSQ => 코스닥\n",
    "    'trdDd' : biz_day, # 최근 영업일\n",
    "    'csvxls_isNo' : 'false',\n",
    "    'name' : 'fileDown',\n",
    "    'url' :'dbms/MDC/STAT/standard/MDCSTAT03501'\n",
    "}\n",
    "\n",
    "headers = {'Referer' : 'http://dart.krx.co.kr/contents/MDC/MDI/mdiLoader'}\n",
    "otp = rq.post(gen_otp_url, gen_otp_data, headers=headers).text\n",
    "down_url = 'http://data.krx.co.kr/comm/fileDn/download_csv/download.cmd'\n",
    "krx_ind = rq.post(down_url, {'code' : otp}, headers=headers)\n",
    "\n",
    "krx_ind = pd.read_csv(BytesIO(krx_ind.content), encoding = 'EUC-KR')\n",
    "krx_ind['종목명'] = krx_ind['종목명'].str.strip()\n",
    "krx_ind['기준일'] = biz_day"
   ]
  },
  {
   "cell_type": "code",
   "execution_count": 7,
   "metadata": {},
   "outputs": [],
   "source": [
    "# symmetric_difference 대칭차 구하는 함수\n",
    "diff = list(set(krx_sector['종목명']).symmetric_difference(set(krx_ind['종목명'])))"
   ]
  },
  {
   "cell_type": "code",
   "execution_count": 8,
   "metadata": {},
   "outputs": [],
   "source": [
    "# on 조건을 기준으로 두 데이터를 하나로 합치며, intersection() 메서드를 이용해 공통으로 존재하는 열을 기준으로 입력한다\n",
    "kor_ticker = pd.merge(krx_sector, krx_ind, on=krx_sector.columns.intersection(krx_ind.columns).tolist(), how='outer')"
   ]
  },
  {
   "cell_type": "code",
   "execution_count": 9,
   "metadata": {},
   "outputs": [],
   "source": [
    "# 스팩 종목은 종목명에 스팩 또는 제n호 단어가 들어간다.\n",
    "# print(kor_ticker[kor_ticker['종목명'].str.contains('스팩|제[0-9]+호')]['종목명'].values)"
   ]
  },
  {
   "cell_type": "code",
   "execution_count": 10,
   "metadata": {},
   "outputs": [],
   "source": [
    "# 국내 종목 중 종목코드 끝이 0이 아닌 종목은 우선주에 해당한다.\n",
    "# print(kor_ticker[kor_ticker['종목코드'].str[-1:] != '0']['종목명'].values)"
   ]
  },
  {
   "cell_type": "code",
   "execution_count": 11,
   "metadata": {},
   "outputs": [],
   "source": [
    "# 리츠 종목은 종목명이 리츠로 끝난다\n",
    "# print(kor_ticker[kor_ticker['종목명'].str.endswith('리츠')]['종목명'].values)"
   ]
  },
  {
   "cell_type": "code",
   "execution_count": 12,
   "metadata": {},
   "outputs": [],
   "source": [
    "kor_ticker['종목구분'] = np.where(kor_ticker['종목명'].str.contains('스팩|제[0-9]+호'), '스팩', np.where(kor_ticker['종목코드'].str[-1:] != '0', '우선주',\n",
    "                        np.where(kor_ticker['종목명'].str.endswith('리츠'), '리츠', np.where(kor_ticker['종목명'].isin(diff), '기타', '보통주'))))\n",
    "kor_ticker = kor_ticker.reset_index(drop=True)\n",
    "kor_ticker.columns = kor_ticker.columns.str.replace(' ', '')\n",
    "kor_ticker = kor_ticker[['종목코드', '종목명', '시장구분', '종가', '시가총액', '기준일', 'EPS', '선행EPS', 'BPS', '주당배당금', '종목구분']]\n",
    "kor_ticker = kor_ticker.replace({np.nan: None})\n",
    "kor_ticker['기준일'] = pd.to_datetime(kor_ticker['기준일'])"
   ]
  },
  {
   "cell_type": "code",
   "execution_count": 91,
   "metadata": {},
   "outputs": [],
   "source": [
    "# # initial database\n",
    "# con = pymysql.connect(user='root',\n",
    "#                       passwd='Tjdgus12!',\n",
    "#                       host='127.0.0.1',\n",
    "#                       db='kr_stock_db',\n",
    "#                       charset = 'utf8')\n",
    "# mycursor = con.cursor()\n",
    "# query = f\"\"\"\n",
    "# insert into kor_ticker (종목코드,종목명,시장구분,종가,시가총액,기준일,EPS,선행EPS,BPS,주당배당금,종목구분)\n",
    "# values(%s,%s,%s,%s,%s,%s,%s,%s,%s,%s,%s) as new\n",
    "# on duplicate key update\n",
    "# 종목명 = new.종목명, 시장구분 = new.시장구분, 종가 = new.종가, 시가총액 = new.시가총액,\n",
    "#  EPS = new.EPS, 선행EPS = new.선행EPS, BPS = new.BPS, 주당배당금 = new.주당배당금, 종목구분 = new.종목구분;\n",
    "# \"\"\"\n",
    "\n",
    "# args = kor_ticker.values.tolist()\n",
    "# mycursor.executemany(query, args)\n",
    "# con.commit()\n",
    "# con.close()"
   ]
  },
  {
   "cell_type": "code",
   "execution_count": 20,
   "metadata": {},
   "outputs": [],
   "source": [
    "# update database\n",
    "con = pymysql.connect(user='root',\n",
    "                      passwd='Tjdgus12!',\n",
    "                      host='127.0.0.1',\n",
    "                      db='kr_stock_db',\n",
    "                      charset='utf8')\n",
    "mycursor = con.cursor()\n",
    "\n",
    "query = \"\"\"\n",
    "UPDATE kor_ticker\n",
    "SET 종목명 = %s, 시장구분 = %s, 종가 = %s,\n",
    "    시가총액 = %s, 기준일 = %s, EPS = %s, 선행EPS = %s,\n",
    "    BPS = %s, 주당배당금 = %s, 종목구분 = %s\n",
    "WHERE 종목코드 = %s;\n",
    "\"\"\"\n",
    "\n",
    "args = kor_ticker[['종목명', '시장구분', '종가', '시가총액', '기준일', 'EPS', '선행EPS', 'BPS', '주당배당금', '종목구분', '종목코드']].values.tolist()\n",
    "mycursor.executemany(query, args)\n",
    "con.commit()\n",
    "con.close()\n"
   ]
  },
  {
   "cell_type": "markdown",
   "metadata": {},
   "source": [
    "WICS 기준 섹터 정보 크롤링  \n",
    "WICS(Wise Industry Classification Standard)는 당사에서 사용하는 대표적인 Sector 분류기준으로, 국제적으로 통용되는 분류 기준을 국내 실정에 맞게 재구성하여 확립하였습니다.  \n",
    "https://www.wiseindex.com/About/WICS\n",
    "\n"
   ]
  },
  {
   "cell_type": "code",
   "execution_count": 55,
   "metadata": {},
   "outputs": [
    {
     "data": {
      "text/plain": [
       "dict"
      ]
     },
     "execution_count": 55,
     "metadata": {},
     "output_type": "execute_result"
    }
   ],
   "source": [
    "url = f'''https://www.wiseindex.com/Index/GetIndexComponets?ceil_yn=0&dt=20240319&sec_cd=G10'''\n",
    "data = rq.get(url).json()\n",
    "type(data)"
   ]
  },
  {
   "cell_type": "code",
   "execution_count": 43,
   "metadata": {},
   "outputs": [
    {
     "data": {
      "text/plain": [
       "[{'SEC_CD': 'G25', 'SEC_NM_KOR': '경기관련소비재', 'SEC_RATE': 10.07, 'IDX_RATE': 0},\n",
       " {'SEC_CD': 'G35', 'SEC_NM_KOR': '건강관리', 'SEC_RATE': 9.87, 'IDX_RATE': 0},\n",
       " {'SEC_CD': 'G50', 'SEC_NM_KOR': '커뮤니케이션서비스', 'SEC_RATE': 5.77, 'IDX_RATE': 0},\n",
       " {'SEC_CD': 'G40', 'SEC_NM_KOR': '금융', 'SEC_RATE': 9.13, 'IDX_RATE': 0},\n",
       " {'SEC_CD': 'G10', 'SEC_NM_KOR': '에너지', 'SEC_RATE': 1.7, 'IDX_RATE': 100.0},\n",
       " {'SEC_CD': 'G20', 'SEC_NM_KOR': '산업재', 'SEC_RATE': 12.61, 'IDX_RATE': 0},\n",
       " {'SEC_CD': 'G55', 'SEC_NM_KOR': '유틸리티', 'SEC_RATE': 1.01, 'IDX_RATE': 0},\n",
       " {'SEC_CD': 'G30', 'SEC_NM_KOR': '필수소비재', 'SEC_RATE': 1.96, 'IDX_RATE': 0},\n",
       " {'SEC_CD': 'G15', 'SEC_NM_KOR': '소재', 'SEC_RATE': 8.62, 'IDX_RATE': 0},\n",
       " {'SEC_CD': 'G45', 'SEC_NM_KOR': 'IT', 'SEC_RATE': 39.26, 'IDX_RATE': 0}]"
      ]
     },
     "execution_count": 43,
     "metadata": {},
     "output_type": "execute_result"
    }
   ],
   "source": [
    "data['sector']"
   ]
  },
  {
   "cell_type": "code",
   "execution_count": 44,
   "metadata": {},
   "outputs": [
    {
     "data": {
      "text/plain": [
       "'20240320'"
      ]
     },
     "execution_count": 44,
     "metadata": {},
     "output_type": "execute_result"
    }
   ],
   "source": [
    "biz_day"
   ]
  },
  {
   "cell_type": "code",
   "execution_count": 67,
   "metadata": {},
   "outputs": [
    {
     "name": "stderr",
     "output_type": "stream",
     "text": [
      "  0%|          | 0/10 [00:00<?, ?it/s]"
     ]
    },
    {
     "name": "stdout",
     "output_type": "stream",
     "text": [
      "https://www.wiseindex.com/Index/GetIndexComponets?ceil_yn=0&dt=20240319&sec_cd=G25\n"
     ]
    },
    {
     "name": "stderr",
     "output_type": "stream",
     "text": [
      " 10%|█         | 1/10 [00:02<00:20,  2.28s/it]"
     ]
    },
    {
     "name": "stdout",
     "output_type": "stream",
     "text": [
      "https://www.wiseindex.com/Index/GetIndexComponets?ceil_yn=0&dt=20240319&sec_cd=G35\n"
     ]
    },
    {
     "name": "stderr",
     "output_type": "stream",
     "text": [
      " 20%|██        | 2/10 [00:04<00:17,  2.22s/it]"
     ]
    },
    {
     "name": "stdout",
     "output_type": "stream",
     "text": [
      "https://www.wiseindex.com/Index/GetIndexComponets?ceil_yn=0&dt=20240319&sec_cd=G50\n"
     ]
    },
    {
     "name": "stderr",
     "output_type": "stream",
     "text": [
      " 30%|███       | 3/10 [00:06<00:15,  2.19s/it]"
     ]
    },
    {
     "name": "stdout",
     "output_type": "stream",
     "text": [
      "https://www.wiseindex.com/Index/GetIndexComponets?ceil_yn=0&dt=20240319&sec_cd=G40\n"
     ]
    },
    {
     "name": "stderr",
     "output_type": "stream",
     "text": [
      " 40%|████      | 4/10 [00:08<00:13,  2.17s/it]"
     ]
    },
    {
     "name": "stdout",
     "output_type": "stream",
     "text": [
      "https://www.wiseindex.com/Index/GetIndexComponets?ceil_yn=0&dt=20240319&sec_cd=G10\n"
     ]
    },
    {
     "name": "stderr",
     "output_type": "stream",
     "text": [
      " 50%|█████     | 5/10 [00:10<00:10,  2.15s/it]"
     ]
    },
    {
     "name": "stdout",
     "output_type": "stream",
     "text": [
      "https://www.wiseindex.com/Index/GetIndexComponets?ceil_yn=0&dt=20240319&sec_cd=G20\n"
     ]
    },
    {
     "name": "stderr",
     "output_type": "stream",
     "text": [
      " 60%|██████    | 6/10 [00:13<00:08,  2.17s/it]"
     ]
    },
    {
     "name": "stdout",
     "output_type": "stream",
     "text": [
      "https://www.wiseindex.com/Index/GetIndexComponets?ceil_yn=0&dt=20240319&sec_cd=G55\n"
     ]
    },
    {
     "name": "stderr",
     "output_type": "stream",
     "text": [
      " 70%|███████   | 7/10 [00:15<00:06,  2.15s/it]"
     ]
    },
    {
     "name": "stdout",
     "output_type": "stream",
     "text": [
      "https://www.wiseindex.com/Index/GetIndexComponets?ceil_yn=0&dt=20240319&sec_cd=G30\n"
     ]
    },
    {
     "name": "stderr",
     "output_type": "stream",
     "text": [
      " 80%|████████  | 8/10 [00:17<00:04,  2.14s/it]"
     ]
    },
    {
     "name": "stdout",
     "output_type": "stream",
     "text": [
      "https://www.wiseindex.com/Index/GetIndexComponets?ceil_yn=0&dt=20240319&sec_cd=G15\n"
     ]
    },
    {
     "name": "stderr",
     "output_type": "stream",
     "text": [
      " 90%|█████████ | 9/10 [00:19<00:02,  2.15s/it]"
     ]
    },
    {
     "name": "stdout",
     "output_type": "stream",
     "text": [
      "https://www.wiseindex.com/Index/GetIndexComponets?ceil_yn=0&dt=20240319&sec_cd=G45\n"
     ]
    },
    {
     "name": "stderr",
     "output_type": "stream",
     "text": [
      "100%|██████████| 10/10 [00:21<00:00,  2.18s/it]\n"
     ]
    }
   ],
   "source": [
    "data_pd = pd.json_normalize(data['list'])\n",
    "sector_code = ['G25', 'G35','G50', 'G40', 'G10', 'G20', 'G55', 'G30', 'G15', 'G45']\n",
    "data_sector = []\n",
    "\n",
    "for i in tqdm(sector_code):\n",
    "    url = f'''https://www.wiseindex.com/Index/GetIndexComponets?ceil_yn=0&dt={biz_day}&sec_cd={i}'''\n",
    "    data = rq.get(url).json()\n",
    "    data_pd = pd.json_normalize(data['list'])\n",
    "    data_sector.append(data_pd)\n",
    "    time.sleep(2)\n",
    "\n",
    "kor_sector = pd.concat(data_sector, axis = 0)\n",
    "kor_sector = kor_sector[['IDX_CD', 'CMP_CD', 'CMP_KOR', 'SEC_NM_KOR']]\n",
    "kor_sector['기준일'] = biz_day\n",
    "kor_sector['기준일'] = pd.to_datetime(kor_sector['기준일'])"
   ]
  },
  {
   "cell_type": "code",
   "execution_count": 69,
   "metadata": {},
   "outputs": [],
   "source": [
    "con = pymysql.connect(user='root',\n",
    "                      passwd='Tjdgus12!',\n",
    "                      host='127.0.0.1',\n",
    "                      db='kr_stock_db',\n",
    "                      charset = 'utf8')\n",
    "mycursor = con.cursor()\n",
    "query = f\"\"\"\n",
    "insert into kor_sector (IDX_CD, CMP_CD, CMP_KOR, SEC_NM_KOR, 기준일)\n",
    "values(%s,%s,%s,%s,%s) as new\n",
    "on duplicate key update\n",
    "IDX_CD = new.IDX_CD, CMP_CD = new.CMP_CD, CMP_KOR = new.CMP_KOR, SEC_NM_KOR = new.SEC_NM_KOR\n",
    "\"\"\"\n",
    "\n",
    "args = kor_sector.values.tolist()\n",
    "mycursor.executemany(query, args)\n",
    "con.commit()\n",
    "con.close()"
   ]
  }
 ],
 "metadata": {
  "kernelspec": {
   "display_name": "base",
   "language": "python",
   "name": "python3"
  },
  "language_info": {
   "codemirror_mode": {
    "name": "ipython",
    "version": 3
   },
   "file_extension": ".py",
   "mimetype": "text/x-python",
   "name": "python",
   "nbconvert_exporter": "python",
   "pygments_lexer": "ipython3",
   "version": "3.9.7"
  }
 },
 "nbformat": 4,
 "nbformat_minor": 2
}
