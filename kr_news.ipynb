{
 "cells": [
  {
   "cell_type": "code",
   "execution_count": 1,
   "metadata": {},
   "outputs": [
    {
     "name": "stderr",
     "output_type": "stream",
     "text": [
      "C:\\Users\\YANG\\AppData\\Roaming\\Python\\Python39\\site-packages\\pandas\\core\\computation\\expressions.py:21: UserWarning: Pandas requires version '2.8.4' or newer of 'numexpr' (version '2.7.3' currently installed).\n",
      "  from pandas.core.computation.check import NUMEXPR_INSTALLED\n",
      "C:\\Users\\YANG\\AppData\\Roaming\\Python\\Python39\\site-packages\\pandas\\core\\arrays\\masked.py:60: UserWarning: Pandas requires version '1.3.6' or newer of 'bottleneck' (version '1.3.2' currently installed).\n",
      "  from pandas.core import (\n"
     ]
    }
   ],
   "source": [
    "import requests as rq\n",
    "from bs4 import BeautifulSoup\n",
    "import pandas as pd\n",
    "from datetime import datetime\n"
   ]
  },
  {
   "cell_type": "code",
   "execution_count": 3,
   "metadata": {},
   "outputs": [
    {
     "data": {
      "text/plain": [
       "'20240319'"
      ]
     },
     "execution_count": 3,
     "metadata": {},
     "output_type": "execute_result"
    }
   ],
   "source": [
    "today = datetime.today().strftime(\"%Y%m%d\")\n",
    "today"
   ]
  },
  {
   "cell_type": "code",
   "execution_count": 4,
   "metadata": {},
   "outputs": [],
   "source": [
    "# URLs\n",
    "# links = \"https://finance.naver.com/news/news_list.naver?mode=LSS2D&section_id=101&section_id2=258&page=\"\n",
    "links = f\"\"\"https://finance.naver.com/news/news_list.naver?mode=LSS2D&section_id=101&section_id2=258&date={today}&page=\"\"\"\n",
    "urls = [links + str(i) for i in range(40)]\n",
    "\n",
    "# Lists to store titles and summaries\n",
    "titles = []\n",
    "summaries = []\n",
    "\n",
    "# Fetching data and creating BeautifulSoup objects\n",
    "for url in urls:\n",
    "    response = rq.get(url)\n",
    "    html = BeautifulSoup(response.content, 'html.parser')\n",
    "    \n",
    "    # Extracting titles and summaries\n",
    "    titles += html.select('dl > dd.articleSubject > a') + html.select('dl > dt.articleSubject > a')\n",
    "    summaries += html.select('dl > dd.articleSummary')\n",
    "    title_list = [i['title'] for i in titles]\n",
    "    title_list = [s.replace('\\xa0', '') for s in title_list]\n",
    "    for i in range(len(summaries)):\n",
    "        span_elements = summaries[i].find_all('span')\n",
    "        for span_element in span_elements:\n",
    "            span_element.decompose()\n",
    "    summary_list = [i.text for i in summaries]\n",
    "    summary_list = [s.strip('\\n, \\t') for s in summary_list]\n",
    "    news_list = pd.DataFrame({\"title\" : title_list, \"summary\" : summary_list})"
   ]
  },
  {
   "cell_type": "code",
   "execution_count": 6,
   "metadata": {},
   "outputs": [],
   "source": [
    "news_list.to_csv(\"news_list.csv\", index = False)"
   ]
  },
  {
   "cell_type": "code",
   "execution_count": null,
   "metadata": {},
   "outputs": [],
   "source": []
  }
 ],
 "metadata": {
  "kernelspec": {
   "display_name": "base",
   "language": "python",
   "name": "python3"
  },
  "language_info": {
   "codemirror_mode": {
    "name": "ipython",
    "version": 3
   },
   "file_extension": ".py",
   "mimetype": "text/x-python",
   "name": "python",
   "nbconvert_exporter": "python",
   "pygments_lexer": "ipython3",
   "version": "3.9.7"
  }
 },
 "nbformat": 4,
 "nbformat_minor": 2
}
